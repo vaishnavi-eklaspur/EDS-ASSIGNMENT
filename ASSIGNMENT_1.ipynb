{
  "nbformat": 4,
  "nbformat_minor": 0,
  "metadata": {
    "colab": {
      "provenance": [],
      "authorship_tag": "ABX9TyPHEsEgVTwRrVKUgF70I2Gu",
      "include_colab_link": true
    },
    "kernelspec": {
      "name": "python3",
      "display_name": "Python 3"
    },
    "language_info": {
      "name": "python"
    }
  },
  "cells": [
    {
      "cell_type": "markdown",
      "metadata": {
        "id": "view-in-github",
        "colab_type": "text"
      },
      "source": [
        "<a href=\"https://colab.research.google.com/github/vaishnavi-eklaspur/EDS-ASSIGNMENT/blob/main/ASSIGNMENT_1.ipynb\" target=\"_parent\"><img src=\"https://colab.research.google.com/assets/colab-badge.svg\" alt=\"Open In Colab\"/></a>"
      ]
    },
    {
      "cell_type": "code",
      "execution_count": null,
      "metadata": {
        "id": "44wKQrYZncBP",
        "colab": {
          "base_uri": "https://localhost:8080/"
        },
        "outputId": "3f8e6a5b-9789-48d5-f9db-d07ad57fdd14"
      },
      "outputs": [
        {
          "output_type": "stream",
          "name": "stdout",
          "text": [
            "THE STUDENT DETAIL FILE CONTENTS ARE: [['NAME', 'ROLL NO', 'GENDER', 'BATCH'], ['Priyali', '201', 'F', 'B1'], ['Sumitra', '202', 'F', 'B2'], ['Nandini', '203', 'F', 'B3'], ['Aswini', '204', 'F', 'B4'], ['Aaditya', '205', 'M', 'B1'], ['Soham ', '206', 'M', 'B2'], ['Kedar', '207', 'M', 'B3'], ['Oliver', '208', 'M', 'B4'], ['Parth', '209', 'M', 'B2'], ['Darshan', '210', 'M', 'B4']] \n",
            "\n",
            "THE PLACEMENT FILE DETAILS ARE: [['ROLL NO', 'COMPANY NAME', 'SALARY'], ['201', 'LG', '1000000'], ['202', 'PANASONIC', '2000000'], ['203', 'HITACHI', '1500000'], ['204', 'WOLKSWAGEN', '3500000'], ['205', 'TATA', '4000000'], ['206', 'YESBANK', '100000'], ['207', 'UNILIVER INDIA', '2000000'], ['208', 'INFOSYS', '2500000'], ['209', 'DEILLOITE', '1700000'], ['210', 'RELIANCE ', '1900000']] \n",
            "\n",
            "THE GRADES FILE DETAILS ARE: [['ROLL NO', 'CORE', 'PSYCHOLOGY', 'ECONOMICS'], ['201', 'AB', 'DD', 'CC'], ['202', 'BB', 'BC', 'AB'], ['203', 'BC', 'EE', 'EE'], ['204', 'AA', 'AB', 'BC'], ['205', 'DD', 'CC', 'DD'], ['206', 'CC', 'DD', 'AB'], ['207', 'AB', 'AA', 'BB'], ['208', 'EE', 'BC', 'CC'], ['209', 'BC', 'BB', 'AA'], ['210', 'DD', 'AB', 'DD']] \n",
            "\n",
            "\n",
            "\n",
            "The merged file is: [['NAME', 'ROLL NO', 'GENDER', 'BATCH', 'ROLL NO', 'COMPANY NAME', 'SALARY', 'ROLL NO', 'CORE', 'PSYCHOLOGY', 'ECONOMICS'], ['Priyali', '201', 'F', 'B1', '201', 'LG', '1000000', '201', 'AB', 'DD', 'CC'], ['Sumitra', '202', 'F', 'B2', '202', 'PANASONIC', '2000000', '202', 'BB', 'BC', 'AB'], ['Nandini', '203', 'F', 'B3', '203', 'HITACHI', '1500000', '203', 'BC', 'EE', 'EE'], ['Aswini', '204', 'F', 'B4', '204', 'WOLKSWAGEN', '3500000', '204', 'AA', 'AB', 'BC'], ['Aaditya', '205', 'M', 'B1', '205', 'TATA', '4000000', '205', 'DD', 'CC', 'DD'], ['Soham ', '206', 'M', 'B2', '206', 'YESBANK', '100000', '206', 'CC', 'DD', 'AB'], ['Kedar', '207', 'M', 'B3', '207', 'UNILIVER INDIA', '2000000', '207', 'AB', 'AA', 'BB'], ['Oliver', '208', 'M', 'B4', '208', 'INFOSYS', '2500000', '208', 'EE', 'BC', 'CC'], ['Parth', '209', 'M', 'B2', '209', 'DEILLOITE', '1700000', '209', 'BC', 'BB', 'AA'], ['Darshan', '210', 'M', 'B4', '210', 'RELIANCE ', '1900000', '210', 'DD', 'AB', 'DD']]\n",
            "\n",
            "The salary data is:\n",
            "1000000\n",
            "2000000\n",
            "1500000\n",
            "3500000\n",
            "4000000\n",
            "100000\n",
            "2000000\n",
            "2500000\n",
            "1700000\n",
            "1900000\n",
            "\n",
            "The salary data is:\n",
            "AB\n",
            "BB\n",
            "BC\n",
            "AA\n",
            "DD\n",
            "CC\n",
            "AB\n",
            "EE\n",
            "BC\n",
            "DD\n",
            "\n",
            "The max salary is: 4000000\n",
            "\n",
            "The min salary is: 100000\n",
            "\n",
            "The highest grade is: EE\n",
            "\n",
            "The lowest grade is: AA\n",
            "The average salary is: 2020000.0\n",
            "\n",
            "Top 5 salary records are:\n",
            "['Aswini', '204', 'F', 'B4', '204', 'WOLKSWAGEN', '3500000', '204', 'AA', 'AB', 'BC']\n",
            "['Kedar', '207', 'M', 'B3', '207', 'UNILIVER INDIA', '2000000', '207', 'AB', 'AA', 'BB']\n",
            "['Aaditya', '205', 'M', 'B1', '205', 'TATA', '4000000', '205', 'DD', 'CC', 'DD']\n",
            "['Darshan', '210', 'M', 'B4', '210', 'RELIANCE ', '1900000', '210', 'DD', 'AB', 'DD']\n",
            "['Sumitra', '202', 'F', 'B2', '202', 'PANASONIC', '2000000', '202', 'BB', 'BC', 'AB']\n"
          ]
        }
      ],
      "source": [
        "import csv\n",
        "f1=open(\"/content/STUDENTDETAILS - Sheet1.csv\",'r')\n",
        "f2=open(\"/content/PLACEMENT - Sheet1.csv\",'r')\n",
        "f3=open(\"/content/GRADES - Sheet1.csv\",'r')\n",
        "f4=open(\"/content/FINAL.csv\",'w')\n",
        "\n",
        "#reading the files\n",
        "data1=list(csv.reader(f1, delimiter=','))\n",
        "data2=list(csv.reader(f2, delimiter=','))\n",
        "data3=list(csv.reader(f3, delimiter=','))\n",
        "\n",
        "#printing the file contents\n",
        "print(\"THE STUDENT DETAIL FILE CONTENTS ARE:\",data1,\"\\n\")\n",
        "print(\"THE PLACEMENT FILE DETAILS ARE:\",data2,\"\\n\")\n",
        "print(\"THE GRADES FILE DETAILS ARE:\",data3,\"\\n\")\n",
        "\n",
        "#merging files\n",
        "data4=[]\n",
        "for i in range(len(data1)):\n",
        "    data4.append(data1[i]+data2[i]+data3[i])\n",
        "    cf4=csv.writer(f4)\n",
        "    cf4.writerows(data4)\n",
        "print (\"\\n\\nThe merged file is:\",data4)\n",
        "\n",
        "\n",
        "#extracting and printing salary data\n",
        "SALARY=[]\n",
        "for i in range(1,len(data2)):\n",
        "    SALARY.append(int(data2[i][2]))\n",
        "print(\"\\nThe salary data is:\")\n",
        "for i in SALARY:\n",
        "    print(i)\n",
        "\n",
        "#extracting and printing grades data\n",
        "GRADES=[]\n",
        "for i in range(1,len(data3)):\n",
        "    GRADES.append(data3[i][1])\n",
        "print(\"\\nThe salary data is:\")\n",
        "for i in GRADES:\n",
        "    print(i)\n",
        "\n",
        "#max and min salary and salary\n",
        "print(\"\\nThe max salary is:\",max(SALARY))\n",
        "print(\"\\nThe min salary is:\",min(SALARY))\n",
        "print(\"\\nThe highest grade is:\",max(GRADES))\n",
        "print(\"\\nThe lowest grade is:\",min(GRADES))\n",
        "\n",
        "\n",
        "#avg salary\n",
        "sum=0\n",
        "for i in SALARY:\n",
        "    sum=sum+i\n",
        "print(\"The average salary is:\",sum/len(SALARY))\n",
        "\n",
        "#function to display top 5 salaries in the file\n",
        "def top5sal(data4):\n",
        "    data4.sort(key=lambda x: x[5], reverse=True)\n",
        "    print(\"\\nTop 5 salary records are:\")\n",
        "    for i in range(5):\n",
        "        print(data4[i+1])\n",
        "\n",
        "top5sal(data4)#calling the function\n",
        "\n",
        "#closing the file\n",
        "f1.close()\n",
        "f2.close()\n",
        "f3.close()\n",
        "f4.close()\n"
      ]
    }
  ]
}