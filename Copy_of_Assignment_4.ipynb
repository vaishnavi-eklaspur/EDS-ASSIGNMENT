{
  "nbformat": 4,
  "nbformat_minor": 0,
  "metadata": {
    "colab": {
      "provenance": [],
      "include_colab_link": true
    },
    "kernelspec": {
      "name": "python3",
      "display_name": "Python 3"
    },
    "language_info": {
      "name": "python"
    }
  },
  "cells": [
    {
      "cell_type": "markdown",
      "metadata": {
        "id": "view-in-github",
        "colab_type": "text"
      },
      "source": [
        "<a href=\"https://colab.research.google.com/github/vaishnavi-eklaspur/EDS-ASSIGNMENT/blob/main/Copy_of_Assignment_4.ipynb\" target=\"_parent\"><img src=\"https://colab.research.google.com/assets/colab-badge.svg\" alt=\"Open In Colab\"/></a>"
      ]
    },
    {
      "cell_type": "code",
      "execution_count": null,
      "metadata": {
        "id": "TrPxdDmsjkAA",
        "colab": {
          "base_uri": "https://localhost:8080/"
        },
        "outputId": "8f934a1d-d692-423d-f859-2fd5750adccb"
      },
      "outputs": [
        {
          "output_type": "stream",
          "name": "stdout",
          "text": [
            "                 Series_Title Released_Year Certificate  Runtime  \\\n",
            "0    The Shawshank Redemption          1994           A  142 min   \n",
            "1               The Godfather          1972           A  175 min   \n",
            "2             The Dark Knight          2008          UA  152 min   \n",
            "3      The Godfather: Part II          1974           A  202 min   \n",
            "4                12 Angry Men          1957           U   96 min   \n",
            "..                        ...           ...         ...      ...   \n",
            "995    Breakfast at Tiffany's          1961           A  115 min   \n",
            "996                     Giant          1956           G  201 min   \n",
            "997     From Here to Eternity          1953      Passed  118 min   \n",
            "998                  Lifeboat          1944         NaN   97 min   \n",
            "999              The 39 Steps          1935         NaN   86 min   \n",
            "\n",
            "                        Genre  IMDB_Rating  Meta_score              Director  \\\n",
            "0                       Drama          9.3        80.0        Frank Darabont   \n",
            "1                Crime, Drama          9.2       100.0  Francis Ford Coppola   \n",
            "2        Action, Crime, Drama          9.0        84.0     Christopher Nolan   \n",
            "3                Crime, Drama          9.0        90.0  Francis Ford Coppola   \n",
            "4                Crime, Drama          9.0        96.0          Sidney Lumet   \n",
            "..                        ...          ...         ...                   ...   \n",
            "995    Comedy, Drama, Romance          7.6        76.0         Blake Edwards   \n",
            "996            Drama, Western          7.6        84.0        George Stevens   \n",
            "997       Drama, Romance, War          7.6        85.0        Fred Zinnemann   \n",
            "998                Drama, War          7.6        78.0      Alfred Hitchcock   \n",
            "999  Crime, Mystery, Thriller          7.6        93.0      Alfred Hitchcock   \n",
            "\n",
            "                 Star1              Star2  No_of_Votes        Gross  \n",
            "0          Tim Robbins     Morgan Freeman      2343110   28,341,469  \n",
            "1        Marlon Brando          Al Pacino      1620367  134,966,411  \n",
            "2       Christian Bale       Heath Ledger      2303232  534,858,444  \n",
            "3            Al Pacino     Robert De Niro      1129952   57,300,000  \n",
            "4          Henry Fonda        Lee J. Cobb       689845    4,360,000  \n",
            "..                 ...                ...          ...          ...  \n",
            "995     Audrey Hepburn     George Peppard       166544          NaN  \n",
            "996   Elizabeth Taylor        Rock Hudson        34075          NaN  \n",
            "997     Burt Lancaster   Montgomery Clift        43374   30,500,000  \n",
            "998  Tallulah Bankhead        John Hodiak        26471          NaN  \n",
            "999       Robert Donat  Madeleine Carroll        51853          NaN  \n",
            "\n",
            "[1000 rows x 12 columns]\n"
          ]
        }
      ],
      "source": [
        "import pandas as pd\n",
        "df=pd.read_csv(\"/content/imdb data.csv\")\n",
        "print(df)"
      ]
    },
    {
      "cell_type": "code",
      "source": [
        "# The first 5 rows of the dataset\n",
        "print(df.head())"
      ],
      "metadata": {
        "colab": {
          "base_uri": "https://localhost:8080/"
        },
        "id": "AL1ujoefkDD7",
        "outputId": "21c1d6bc-bd7d-411a-bbb2-c7001af98d4b"
      },
      "execution_count": null,
      "outputs": [
        {
          "output_type": "stream",
          "name": "stdout",
          "text": [
            "               Series_Title Released_Year Certificate  Runtime  \\\n",
            "0  The Shawshank Redemption          1994           A  142 min   \n",
            "1             The Godfather          1972           A  175 min   \n",
            "2           The Dark Knight          2008          UA  152 min   \n",
            "3    The Godfather: Part II          1974           A  202 min   \n",
            "4              12 Angry Men          1957           U   96 min   \n",
            "\n",
            "                  Genre  IMDB_Rating  Meta_score              Director  \\\n",
            "0                 Drama          9.3        80.0        Frank Darabont   \n",
            "1          Crime, Drama          9.2       100.0  Francis Ford Coppola   \n",
            "2  Action, Crime, Drama          9.0        84.0     Christopher Nolan   \n",
            "3          Crime, Drama          9.0        90.0  Francis Ford Coppola   \n",
            "4          Crime, Drama          9.0        96.0          Sidney Lumet   \n",
            "\n",
            "            Star1           Star2  No_of_Votes        Gross  \n",
            "0     Tim Robbins  Morgan Freeman      2343110   28,341,469  \n",
            "1   Marlon Brando       Al Pacino      1620367  134,966,411  \n",
            "2  Christian Bale    Heath Ledger      2303232  534,858,444  \n",
            "3       Al Pacino  Robert De Niro      1129952   57,300,000  \n",
            "4     Henry Fonda     Lee J. Cobb       689845    4,360,000  \n"
          ]
        }
      ]
    },
    {
      "cell_type": "code",
      "source": [
        "# The total number of rows and columns in the dataset\n",
        "print(df.shape)"
      ],
      "metadata": {
        "colab": {
          "base_uri": "https://localhost:8080/"
        },
        "id": "9LN3KxzskJ40",
        "outputId": "34e5e042-6ba3-4cd2-db18-674041a640a1"
      },
      "execution_count": null,
      "outputs": [
        {
          "output_type": "stream",
          "name": "stdout",
          "text": [
            "(1000, 12)\n"
          ]
        }
      ]
    },
    {
      "cell_type": "code",
      "source": [
        "# Find the highest rated movie in the dataset\n",
        "highest_rated_movie = df.loc[df['IMDB_Rating'].idxmax()]\n",
        "print('Highest Rated Movie:', highest_rated_movie['Series_Title'])"
      ],
      "metadata": {
        "colab": {
          "base_uri": "https://localhost:8080/"
        },
        "id": "f9xh5Zefkzkk",
        "outputId": "c8b8d6af-69bf-405f-c939-1f6e1584e255"
      },
      "execution_count": null,
      "outputs": [
        {
          "output_type": "stream",
          "name": "stdout",
          "text": [
            "Highest Rated Movie: The Shawshank Redemption\n"
          ]
        }
      ]
    },
    {
      "cell_type": "code",
      "source": [
        "# The Highest IMDB Rating\n",
        "highest_imdb = df['IMDB_Rating'].max()\n",
        "print(highest_imdb)"
      ],
      "metadata": {
        "colab": {
          "base_uri": "https://localhost:8080/"
        },
        "id": "4HZOEYgzvVvt",
        "outputId": "8fdcadd6-18d2-48b9-c83c-b25f42c0f66a"
      },
      "execution_count": null,
      "outputs": [
        {
          "output_type": "stream",
          "name": "stdout",
          "text": [
            "9.3\n"
          ]
        }
      ]
    },
    {
      "cell_type": "code",
      "source": [
        "#Sort the movies by their release year in ascending order.\n",
        "sorted_by_year = df.sort_values('Released_Year')\n",
        "print(sorted_by_year['Series_Title'])\n"
      ],
      "metadata": {
        "colab": {
          "base_uri": "https://localhost:8080/"
        },
        "id": "fASgr856w_Ad",
        "outputId": "0649529f-1b01-4522-f36e-d3b17697396f"
      },
      "execution_count": null,
      "outputs": [
        {
          "output_type": "stream",
          "name": "stdout",
          "text": [
            "321    Das Cabinet des Dr. Caligari\n",
            "127                         The Kid\n",
            "568                       Nosferatu\n",
            "194                    Sherlock Jr.\n",
            "193                   The Gold Rush\n",
            "                   ...             \n",
            "464                     Dil Bechara\n",
            "18                         Hamilton\n",
            "20                  Soorarai Pottru\n",
            "613                            Druk\n",
            "966                       Apollo 13\n",
            "Name: Series_Title, Length: 1000, dtype: object\n"
          ]
        }
      ]
    },
    {
      "cell_type": "code",
      "source": [
        "# Calculate the total number of votes for each director\n",
        "votes_by_director = df.groupby('Director')['No_of_Votes'].sum().reset_index()\n",
        "print(\"Total number of votes for each director:\")\n",
        "print(votes_by_director)"
      ],
      "metadata": {
        "id": "v62YeQVdzTvg",
        "colab": {
          "base_uri": "https://localhost:8080/"
        },
        "outputId": "a2902ca6-3829-4a4c-8477-9e60aa68ccde"
      },
      "execution_count": null,
      "outputs": [
        {
          "output_type": "stream",
          "name": "stdout",
          "text": [
            "Total number of votes for each director:\n",
            "                Director  No_of_Votes\n",
            "0             Aamir Khan       168895\n",
            "1           Aaron Sorkin        89896\n",
            "2    Abdellatif Kechiche       138741\n",
            "3       Abhishek Chaubey        27175\n",
            "4        Abhishek Kapoor        32628\n",
            "..                   ...          ...\n",
            "543          Zack Snyder      1233675\n",
            "544       Zaza Urushadze        40382\n",
            "545          Zoya Akhtar        99813\n",
            "546          Çagan Irmak        78925\n",
            "547     Ömer Faruk Sorak        56960\n",
            "\n",
            "[548 rows x 2 columns]\n"
          ]
        }
      ]
    },
    {
      "cell_type": "code",
      "source": [
        "#Find the director with the most movies\n",
        "director_most_movies = df['Director'].value_counts().idxmax()\n",
        "print(\"Director with the most movies:\", director_most_movies)\n"
      ],
      "metadata": {
        "colab": {
          "base_uri": "https://localhost:8080/"
        },
        "id": "3GdYDpQ9vMF7",
        "outputId": "dbf93737-b983-478e-cbb7-dc06370c9553"
      },
      "execution_count": null,
      "outputs": [
        {
          "output_type": "stream",
          "name": "stdout",
          "text": [
            "Director with the most movies: Alfred Hitchcock\n"
          ]
        }
      ]
    },
    {
      "cell_type": "code",
      "source": [
        "#Get the top 5 highest-rated movies\n",
        "top_5_movies = df.nlargest(5, 'IMDB_Rating')\n",
        "print(\"Top 5 highest-rated movies:\")\n",
        "print(top_5_movies[['Series_Title', 'IMDB_Rating']])\n"
      ],
      "metadata": {
        "colab": {
          "base_uri": "https://localhost:8080/"
        },
        "id": "K7MnIhk2vVP-",
        "outputId": "26ba3130-832c-4dd9-9053-f82e83eb8ba8"
      },
      "execution_count": null,
      "outputs": [
        {
          "output_type": "stream",
          "name": "stdout",
          "text": [
            "Top 5 highest-rated movies:\n",
            "               Series_Title  IMDB_Rating\n",
            "0  The Shawshank Redemption          9.3\n",
            "1             The Godfather          9.2\n",
            "2           The Dark Knight          9.0\n",
            "3    The Godfather: Part II          9.0\n",
            "4              12 Angry Men          9.0\n"
          ]
        }
      ]
    },
    {
      "cell_type": "code",
      "source": [
        "#Get the list of unique movie certificates.\n",
        "unique_certificates = df['Certificate'].unique()\n",
        "print(\"Unique movie certificates:\", unique_certificates)\n"
      ],
      "metadata": {
        "colab": {
          "base_uri": "https://localhost:8080/"
        },
        "id": "5OWcHpLYwgEW",
        "outputId": "ef56cc60-d856-4810-ca1d-4f5bc9205b27"
      },
      "execution_count": null,
      "outputs": [
        {
          "output_type": "stream",
          "name": "stdout",
          "text": [
            "Unique movie certificates: ['A' 'UA' 'U' 'PG-13' 'R' nan 'PG' 'G' 'Passed' 'TV-14' '16' 'TV-MA'\n",
            " 'Unrated' 'GP' 'Approved' 'TV-PG' 'U/A']\n"
          ]
        }
      ]
    },
    {
      "cell_type": "code",
      "source": [
        "#Get the list of movies with a rating above a certain threshold.\n",
        "rating_threshold = 8.0\n",
        "high_rating_movies = df[df['IMDB_Rating'] > rating_threshold]['Series_Title']\n",
        "print(\"Movies with a rating above\", rating_threshold, \":\")\n",
        "print(high_rating_movies)\n"
      ],
      "metadata": {
        "colab": {
          "base_uri": "https://localhost:8080/"
        },
        "id": "8EdRafLnxuZ6",
        "outputId": "1fbd1120-c667-465b-d03c-aca426fbc11a"
      },
      "execution_count": null,
      "outputs": [
        {
          "output_type": "stream",
          "name": "stdout",
          "text": [
            "Movies with a rating above 8.0 :\n",
            "0           The Shawshank Redemption\n",
            "1                      The Godfather\n",
            "2                    The Dark Knight\n",
            "3             The Godfather: Part II\n",
            "4                       12 Angry Men\n",
            "                   ...              \n",
            "317       La passion de Jeanne d'Arc\n",
            "318                       The Circus\n",
            "319    Sunrise: A Song of Two Humans\n",
            "320                      The General\n",
            "321     Das Cabinet des Dr. Caligari\n",
            "Name: Series_Title, Length: 322, dtype: object\n"
          ]
        }
      ]
    },
    {
      "cell_type": "code",
      "source": [
        "#Find the movies starring Tom Hanks.\n",
        "tom_hanks_movies = df[df['Star1'].str.contains('Tom Hanks')]\n",
        "print(tom_hanks_movies)"
      ],
      "metadata": {
        "colab": {
          "base_uri": "https://localhost:8080/"
        },
        "id": "UZB0pvAUysQ0",
        "outputId": "c5344123-ed26-4194-cf85-9439381449bf"
      },
      "execution_count": null,
      "outputs": [
        {
          "output_type": "stream",
          "name": "stdout",
          "text": [
            "            Series_Title Released_Year Certificate  Runtime  \\\n",
            "11          Forrest Gump          1994          UA  142 min   \n",
            "24   Saving Private Ryan          1998           R  169 min   \n",
            "25        The Green Mile          1999           A  189 min   \n",
            "101            Toy Story          1995           U   81 min   \n",
            "151          Toy Story 3          2010           U  103 min   \n",
            "596          Toy Story 4          2019           U  100 min   \n",
            "604     Captain Phillips          2013          UA  134 min   \n",
            "647            Cast Away          2000          UA  143 min   \n",
            "791    Road to Perdition          2002           A  117 min   \n",
            "818         Philadelphia          1993          UA  125 min   \n",
            "890      Bridge of Spies          2015          UA  142 min   \n",
            "966            Apollo 13            PG           U  140 min   \n",
            "\n",
            "                            Genre  IMDB_Rating  Meta_score          Director  \\\n",
            "11                 Drama, Romance          8.8        82.0   Robert Zemeckis   \n",
            "24                     Drama, War          8.6        91.0  Steven Spielberg   \n",
            "25          Crime, Drama, Fantasy          8.6        61.0    Frank Darabont   \n",
            "101  Animation, Adventure, Comedy          8.3        95.0     John Lasseter   \n",
            "151  Animation, Adventure, Comedy          8.2        92.0       Lee Unkrich   \n",
            "596  Animation, Adventure, Comedy          7.8        84.0       Josh Cooley   \n",
            "604   Adventure, Biography, Crime          7.8        82.0   Paul Greengrass   \n",
            "647     Adventure, Drama, Romance          7.8        73.0   Robert Zemeckis   \n",
            "791        Crime, Drama, Thriller          7.7        72.0        Sam Mendes   \n",
            "818                         Drama          7.7        66.0    Jonathan Demme   \n",
            "890      Drama, History, Thriller          7.6        81.0  Steven Spielberg   \n",
            "966     Adventure, Drama, History          7.6        77.0        Ron Howard   \n",
            "\n",
            "         Star1                  Star2  No_of_Votes        Gross  \n",
            "11   Tom Hanks           Robin Wright      1809221  330,252,182  \n",
            "24   Tom Hanks             Matt Damon      1235804  216,540,909  \n",
            "25   Tom Hanks  Michael Clarke Duncan      1147794  136,801,374  \n",
            "101  Tom Hanks              Tim Allen       887429  191,796,233  \n",
            "151  Tom Hanks              Tim Allen       757032  415,004,880  \n",
            "596  Tom Hanks              Tim Allen       203177  434,038,008  \n",
            "604  Tom Hanks           Barkhad Abdi       421244  107,100,855  \n",
            "647  Tom Hanks             Helen Hunt       524235  233,632,142  \n",
            "791  Tom Hanks         Tyler Hoechlin       246840  104,454,762  \n",
            "818  Tom Hanks      Denzel Washington       224169   77,324,422  \n",
            "890  Tom Hanks           Mark Rylance       287659   72,313,754  \n",
            "966  Tom Hanks            Bill Paxton       269197  173,837,933  \n"
          ]
        }
      ]
    },
    {
      "cell_type": "code",
      "source": [
        "#Count the number of movies in each genre category.\n",
        "genre_counts = df['Genre'].value_counts()\n",
        "print(genre_counts)"
      ],
      "metadata": {
        "colab": {
          "base_uri": "https://localhost:8080/"
        },
        "id": "iWSB2VovzeTB",
        "outputId": "e261c8f4-057e-47ee-a4ce-e8b028956d2e"
      },
      "execution_count": null,
      "outputs": [
        {
          "output_type": "stream",
          "name": "stdout",
          "text": [
            "Drama                        85\n",
            "Drama, Romance               37\n",
            "Comedy, Drama                35\n",
            "Comedy, Drama, Romance       31\n",
            "Action, Crime, Drama         30\n",
            "                             ..\n",
            "Adventure, Thriller           1\n",
            "Animation, Action, Sci-Fi     1\n",
            "Action, Crime, Comedy         1\n",
            "Animation, Crime, Mystery     1\n",
            "Adventure, Comedy, War        1\n",
            "Name: Genre, Length: 202, dtype: int64\n"
          ]
        }
      ]
    },
    {
      "cell_type": "code",
      "source": [
        "#Group the dataset by the release year and calculate the average rating for each year\n",
        "average_rating_year = df.groupby('Released_Year')['IMDB_Rating'].mean()\n",
        "print(average_rating_year)"
      ],
      "metadata": {
        "colab": {
          "base_uri": "https://localhost:8080/"
        },
        "id": "kbwG6ueX0e-h",
        "outputId": "36269dba-fc2f-4ae3-82ff-bbd69317902c"
      },
      "execution_count": null,
      "outputs": [
        {
          "output_type": "stream",
          "name": "stdout",
          "text": [
            "Released_Year\n",
            "1920    8.100000\n",
            "1921    8.300000\n",
            "1922    7.900000\n",
            "1924    8.200000\n",
            "1925    8.100000\n",
            "          ...   \n",
            "2017    7.890909\n",
            "2018    7.994737\n",
            "2019    7.995652\n",
            "2020    8.133333\n",
            "PG      7.600000\n",
            "Name: IMDB_Rating, Length: 100, dtype: float64\n"
          ]
        }
      ]
    },
    {
      "cell_type": "code",
      "source": [
        "#Find the movie with the highest votes\n",
        "highest_votes_movie = df.loc[df['No_of_Votes'].idxmax()]\n",
        "print('high vote Movie:', highest_votes_movie['Series_Title'])"
      ],
      "metadata": {
        "colab": {
          "base_uri": "https://localhost:8080/"
        },
        "id": "4vIl9CBA0-go",
        "outputId": "37419abd-a650-4880-eded-cb37e5bf429b"
      },
      "execution_count": null,
      "outputs": [
        {
          "output_type": "stream",
          "name": "stdout",
          "text": [
            "high vote Movie: The Shawshank Redemption\n"
          ]
        }
      ]
    },
    {
      "cell_type": "code",
      "source": [
        "#Find the top 10 movies with the highest ratings\n",
        "top_10_movies = df.nlargest(10, 'IMDB_Rating')\n",
        "print(top_10_movies)"
      ],
      "metadata": {
        "colab": {
          "base_uri": "https://localhost:8080/"
        },
        "id": "Lo15dbP91qz5",
        "outputId": "af459b6d-fe9e-4d90-fe60-0ed532c49d44"
      },
      "execution_count": null,
      "outputs": [
        {
          "output_type": "stream",
          "name": "stdout",
          "text": [
            "                                    Series_Title Released_Year Certificate  \\\n",
            "0                       The Shawshank Redemption          1994           A   \n",
            "1                                  The Godfather          1972           A   \n",
            "2                                The Dark Knight          2008          UA   \n",
            "3                         The Godfather: Part II          1974           A   \n",
            "4                                   12 Angry Men          1957           U   \n",
            "5  The Lord of the Rings: The Return of the King          2003           U   \n",
            "6                                   Pulp Fiction          1994           A   \n",
            "7                               Schindler's List          1993           A   \n",
            "8                                      Inception          2010          UA   \n",
            "9                                     Fight Club          1999           A   \n",
            "\n",
            "   Runtime                      Genre  IMDB_Rating  Meta_score  \\\n",
            "0  142 min                      Drama          9.3        80.0   \n",
            "1  175 min               Crime, Drama          9.2       100.0   \n",
            "2  152 min       Action, Crime, Drama          9.0        84.0   \n",
            "3  202 min               Crime, Drama          9.0        90.0   \n",
            "4   96 min               Crime, Drama          9.0        96.0   \n",
            "5  201 min   Action, Adventure, Drama          8.9        94.0   \n",
            "6  154 min               Crime, Drama          8.9        94.0   \n",
            "7  195 min  Biography, Drama, History          8.9        94.0   \n",
            "8  148 min  Action, Adventure, Sci-Fi          8.8        74.0   \n",
            "9  139 min                      Drama          8.8        66.0   \n",
            "\n",
            "               Director              Star1                 Star2  No_of_Votes  \\\n",
            "0        Frank Darabont        Tim Robbins        Morgan Freeman      2343110   \n",
            "1  Francis Ford Coppola      Marlon Brando             Al Pacino      1620367   \n",
            "2     Christopher Nolan     Christian Bale          Heath Ledger      2303232   \n",
            "3  Francis Ford Coppola          Al Pacino        Robert De Niro      1129952   \n",
            "4          Sidney Lumet        Henry Fonda           Lee J. Cobb       689845   \n",
            "5         Peter Jackson        Elijah Wood       Viggo Mortensen      1642758   \n",
            "6     Quentin Tarantino      John Travolta           Uma Thurman      1826188   \n",
            "7      Steven Spielberg        Liam Neeson         Ralph Fiennes      1213505   \n",
            "8     Christopher Nolan  Leonardo DiCaprio  Joseph Gordon-Levitt      2067042   \n",
            "9         David Fincher          Brad Pitt         Edward Norton      1854740   \n",
            "\n",
            "         Gross  \n",
            "0   28,341,469  \n",
            "1  134,966,411  \n",
            "2  534,858,444  \n",
            "3   57,300,000  \n",
            "4    4,360,000  \n",
            "5  377,845,905  \n",
            "6  107,928,762  \n",
            "7   96,898,818  \n",
            "8  292,576,195  \n",
            "9   37,030,102  \n"
          ]
        }
      ]
    },
    {
      "cell_type": "code",
      "source": [
        "#Sort the dataset by movie duration in ascending order\n",
        "sorted_df = df.sort_values('Runtime')\n",
        "print(sorted_df.head())"
      ],
      "metadata": {
        "colab": {
          "base_uri": "https://localhost:8080/"
        },
        "id": "LNe4-yL61_hg",
        "outputId": "83fa8c61-c75c-43b5-c949-e9c346652e7f"
      },
      "execution_count": null,
      "outputs": [
        {
          "output_type": "stream",
          "name": "stdout",
          "text": [
            "             Series_Title Released_Year Certificate  Runtime  \\\n",
            "456    The Maltese Falcon          1941         NaN  100 min   \n",
            "711  To Have and Have Not          1944          PG  100 min   \n",
            "783              Coraline          2009           U  100 min   \n",
            "710             Key Largo          1948         NaN  100 min   \n",
            "907                 50/50          2011           R  100 min   \n",
            "\n",
            "                            Genre  IMDB_Rating  Meta_score         Director  \\\n",
            "456            Film-Noir, Mystery          8.0        96.0      John Huston   \n",
            "711  Adventure, Comedy, Film-Noir          7.8         NaN     Howard Hawks   \n",
            "783      Animation, Drama, Family          7.7        80.0     Henry Selick   \n",
            "710          Action, Crime, Drama          7.8         NaN      John Huston   \n",
            "907        Comedy, Drama, Romance          7.6        72.0  Jonathan Levine   \n",
            "\n",
            "                    Star1               Star2  No_of_Votes       Gross  \n",
            "456       Humphrey Bogart          Mary Astor       148928   2,108,060  \n",
            "711       Humphrey Bogart       Lauren Bacall        31053         NaN  \n",
            "783        Dakota Fanning        Teri Hatcher       197761  75,286,229  \n",
            "710       Humphrey Bogart  Edward G. Robinson        36995         NaN  \n",
            "907  Joseph Gordon-Levitt          Seth Rogen       315426  35,014,192  \n"
          ]
        }
      ]
    },
    {
      "cell_type": "code",
      "source": [
        "#Find the lowest rated movie in the dataset\n",
        "lowest_rated_movie = df.loc[df['IMDB_Rating'].idxmin()]\n",
        "print('Lowest Rated Movie:', lowest_rated_movie['Series_Title'])"
      ],
      "metadata": {
        "colab": {
          "base_uri": "https://localhost:8080/"
        },
        "id": "luEQ41he2IhW",
        "outputId": "bc9609f7-ad8f-4fd9-f666-5e65ecfb6ed1"
      },
      "execution_count": null,
      "outputs": [
        {
          "output_type": "stream",
          "name": "stdout",
          "text": [
            "Lowest Rated Movie: Dark Waters\n"
          ]
        }
      ]
    }
  ]
}